{
 "cells": [
  {
   "cell_type": "markdown",
   "metadata": {},
   "source": [
    "# This should be your title\n",
    "\n",
    "This file is a template to use if you want to use the features of Jupyter notebooks to submit the first computational problem from 505.\n",
    "\n",
    "Clearly, all this text here needs to be modifies. It would be very embarrassing if you left it untouched. You need to change the title, and you need to write an introduction.\n",
    "\n",
    "The purpose of this template is to get you the formula for Plank's black body radiation nicely typeset using LaTex.\n",
    "\n",
    "Here is the formula you need:\n",
    "\n",
    "I(x,T) = 2 pi h c^2/x^5 * 1/(exp(hc/xkT) - 1)\n",
    "\n",
    "where x is wavelength\n",
    "c is speed of light\n",
    "h is Planck’s const   \n",
    "k is Boltzmann’s constant\n",
    "and the units of I are Energy/(m^2 s)/m (Intensity per unit wavelength).\n",
    "\n",
    "Here is the same formula, but now with nice typesetting. \n",
    "\n",
    "$$\\large I(\\lambda,T) = \\frac{2\\pi h c^2}{\\lambda^5} \\frac{1}{(e^\\frac{hc}{\\lambda kT} -1)} \\left[\\frac{W}{sr\\ m^2 \\ m}\\right]$$\n",
    "\n",
    "where: $T$ is the temperature in Kelvin, $c$ is the speed of light, $h$ is Planck's constant, $k$ is Boltzmann's constant, and $\\lambda$ is the wavelength of the light."
   ]
  },
  {
   "cell_type": "code",
   "execution_count": 1,
   "metadata": {},
   "outputs": [],
   "source": [
    "# Import the needed packages\n",
    "import numpy as np\n",
    "import matplotlib.pyplot as plt\n"
   ]
  },
  {
   "cell_type": "code",
   "execution_count": null,
   "metadata": {},
   "outputs": [],
   "source": [
    "#\n",
    "# Your code to  make the plots goes here\n",
    "#"
   ]
  }
 ],
 "metadata": {
  "kernelspec": {
   "display_name": "Python 3",
   "language": "python",
   "name": "python3"
  },
  "language_info": {
   "codemirror_mode": {
    "name": "ipython",
    "version": 3
   },
   "file_extension": ".py",
   "mimetype": "text/x-python",
   "name": "python",
   "nbconvert_exporter": "python",
   "pygments_lexer": "ipython3",
   "version": "3.6.5"
  }
 },
 "nbformat": 4,
 "nbformat_minor": 2
}
